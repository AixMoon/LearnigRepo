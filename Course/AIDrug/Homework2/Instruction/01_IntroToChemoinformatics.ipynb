{
 "cells": [
  {
   "cell_type": "markdown",
   "metadata": {},
   "source": [
    "# Introduction to cheminformatics\n",
    "\n",
    "Adapted from TeachOpenCADD project\n",
    "\n",
    "#### Basic handling of molecules\n",
    "\n",
    "* Reading & writing of molecules\n",
    "* Molecular descriptors & fingerprints\n",
    "* Molecular similarity\n",
    "\n",
    "#### Using RDKit: open source cheminformatics software\n",
    "\n",
    "More information can be found here:\n",
    "\n",
    "* http://www.rdkit.org/docs/index.html\n",
    "* http://www.rdkit.org/docs/api/index.html"
   ]
  },
  {
   "cell_type": "code",
   "execution_count": 1,
   "metadata": {},
   "outputs": [],
   "source": [
    "# The majority of the basic molecular functionality is found in module rdkit.Chem library\n",
    "from rdkit import Chem\n",
    "from rdkit.Chem import AllChem"
   ]
  },
  {
   "cell_type": "markdown",
   "metadata": {},
   "source": [
    "## Representation of molecules\n",
    "\n",
    "### SMILES (Simplified Molecular Input Line Entry Specification)\n",
    "\n",
    "* Atoms are represented by atomic symbols: C, N, O, F, S, Cl, Br, I\n",
    "* Double bonds are `=`, triple bonds are `#`\n",
    "* Branching is indicated by parenthesis\n",
    "* Ring closures are indicated by pairs of matching digits\n",
    "\n",
    "More information can be found here: http://www.daylight.com/dayhtml/doc/theory/theory.smiles.html"
   ]
  },
  {
   "cell_type": "code",
   "execution_count": 32,
   "metadata": {},
   "outputs": [],
   "source": [
    "# Individual molecules can be constructed using a variety of approaches\n",
    "# FDA approved EGFR inhibitors: Gefitinib, Erlotinib\n",
    "\n",
    "mol1 = Chem.MolFromSmiles('COc1cc2ncnc(Nc3ccc(F)c(Cl)c3)c2cc1OCCCN1CCOCC1')\n",
    "mol2 = Chem.MolFromSmiles('C#Cc1cccc(Nc2ncnc3cc(OCCOC)c(OCCOC)cc23)c1')"
   ]
  },
  {
   "cell_type": "markdown",
   "metadata": {},
   "source": [
    "#### Drawing molecules"
   ]
  },
  {
   "cell_type": "code",
   "execution_count": 33,
   "metadata": {},
   "outputs": [],
   "source": [
    "from rdkit.Chem.Draw import IPythonConsole\n",
    "from rdkit.Chem import Draw"
   ]
  },
  {
   "cell_type": "code",
   "execution_count": 34,
   "metadata": {},
   "outputs": [
    {
     "data": {
      "image/png": "[encoded data removed]",
      "text/plain": [
       "<rdkit.Chem.rdchem.Mol at 0x1262556c0>"
      ]
     },
     "execution_count": 34,
     "metadata": {},
     "output_type": "execute_result"
    }
   ],
   "source": [
    "# Single molecule\n",
    "mol1"
   ]
  },
  {
   "cell_type": "code",
   "execution_count": 31,
   "metadata": {},
   "outputs": [
    {
     "data": {
      "image/svg+xml": [
       "<svg baseProfile=\"full\" height=\"200px\" version=\"1.1\" width=\"600px\" xml:space=\"preserve\" xmlns=\"http://www.w3.org/2000/svg\" xmlns:rdkit=\"http://www.rdkit.org/xml\" xmlns:xlink=\"http://www.w3.org/1999/xlink\">\n",
       "<!-- END OF HEADER -->\n",
       "<rect height=\"200\" style=\"opacity:1.0;fill:#FFFFFF;stroke:none\" width=\"600\" x=\"0\" y=\"0\"> </rect>\n",
       "<path class=\"bond-0\" d=\"M 65.6581,148.872 71.8419,150.976\" style=\"fill:none;fill-rule:evenodd;stroke:#000000;stroke-width:2px;stroke-linecap:butt;stroke-linejoin:miter;stroke-opacity:1\"/>\n",
       "<path class=\"bond-0\" d=\"M 71.8419,150.976 78.0258,153.079\" style=\"fill:none;fill-rule:evenodd;stroke:#FF0000;stroke-width:2px;stroke-linecap:butt;stroke-linejoin:miter;stroke-opacity:1\"/>\n",
       "<path class=\"bond-1\" d=\"M 82.893,151.775 87.5565,147.69\" style=\"fill:none;fill-rule:evenodd;stroke:#FF0000;stroke-width:2px;stroke-linecap:butt;stroke-linejoin:miter;stroke-opacity:1\"/>\n",
       "<path class=\"bond-1\" d=\"M 87.5565,147.69 92.22,143.606\" style=\"fill:none;fill-rule:evenodd;stroke:#000000;stroke-width:2px;stroke-linecap:butt;stroke-linejoin:miter;stroke-opacity:1\"/>\n",
       "<path class=\"bond-2\" d=\"M 92.22,143.606 107.021,148.64\" style=\"fill:none;fill-rule:evenodd;stroke:#000000;stroke-width:2px;stroke-linecap:butt;stroke-linejoin:miter;stroke-opacity:1\"/>\n",
       "<path class=\"bond-2\" d=\"M 95.447,141.4 105.808,144.925\" style=\"fill:none;fill-rule:evenodd;stroke:#000000;stroke-width:2px;stroke-linecap:butt;stroke-linejoin:miter;stroke-opacity:1\"/>\n",
       "<path class=\"bond-30\" d=\"M 92.22,143.606 89.1792,128.27\" style=\"fill:none;fill-rule:evenodd;stroke:#000000;stroke-width:2px;stroke-linecap:butt;stroke-linejoin:miter;stroke-opacity:1\"/>\n",
       "<path class=\"bond-3\" d=\"M 107.021,148.64 118.782,138.339\" style=\"fill:none;fill-rule:evenodd;stroke:#000000;stroke-width:2px;stroke-linecap:butt;stroke-linejoin:miter;stroke-opacity:1\"/>\n",
       "<path class=\"bond-4\" d=\"M 118.782,138.339 125.053,140.472\" style=\"fill:none;fill-rule:evenodd;stroke:#000000;stroke-width:2px;stroke-linecap:butt;stroke-linejoin:miter;stroke-opacity:1\"/>\n",
       "<path class=\"bond-4\" d=\"M 125.053,140.472 131.325,142.605\" style=\"fill:none;fill-rule:evenodd;stroke:#0000FF;stroke-width:2px;stroke-linecap:butt;stroke-linejoin:miter;stroke-opacity:1\"/>\n",
       "<path class=\"bond-4\" d=\"M 121.67,136.018 126.06,137.512\" style=\"fill:none;fill-rule:evenodd;stroke:#000000;stroke-width:2px;stroke-linecap:butt;stroke-linejoin:miter;stroke-opacity:1\"/>\n",
       "<path class=\"bond-4\" d=\"M 126.06,137.512 130.45,139.005\" style=\"fill:none;fill-rule:evenodd;stroke:#0000FF;stroke-width:2px;stroke-linecap:butt;stroke-linejoin:miter;stroke-opacity:1\"/>\n",
       "<path class=\"bond-32\" d=\"M 118.782,138.339 115.741,123.003\" style=\"fill:none;fill-rule:evenodd;stroke:#000000;stroke-width:2px;stroke-linecap:butt;stroke-linejoin:miter;stroke-opacity:1\"/>\n",
       "<path class=\"bond-5\" d=\"M 135.842,141.395 140.593,137.233\" style=\"fill:none;fill-rule:evenodd;stroke:#0000FF;stroke-width:2px;stroke-linecap:butt;stroke-linejoin:miter;stroke-opacity:1\"/>\n",
       "<path class=\"bond-5\" d=\"M 140.593,137.233 145.344,133.072\" style=\"fill:none;fill-rule:evenodd;stroke:#000000;stroke-width:2px;stroke-linecap:butt;stroke-linejoin:miter;stroke-opacity:1\"/>\n",
       "<path class=\"bond-6\" d=\"M 145.344,133.072 144.082,126.707\" style=\"fill:none;fill-rule:evenodd;stroke:#000000;stroke-width:2px;stroke-linecap:butt;stroke-linejoin:miter;stroke-opacity:1\"/>\n",
       "<path class=\"bond-6\" d=\"M 144.082,126.707 142.82,120.342\" style=\"fill:none;fill-rule:evenodd;stroke:#0000FF;stroke-width:2px;stroke-linecap:butt;stroke-linejoin:miter;stroke-opacity:1\"/>\n",
       "<path class=\"bond-6\" d=\"M 141.898,131.771 141.015,127.315\" style=\"fill:none;fill-rule:evenodd;stroke:#000000;stroke-width:2px;stroke-linecap:butt;stroke-linejoin:miter;stroke-opacity:1\"/>\n",
       "<path class=\"bond-6\" d=\"M 141.015,127.315 140.131,122.86\" style=\"fill:none;fill-rule:evenodd;stroke:#0000FF;stroke-width:2px;stroke-linecap:butt;stroke-linejoin:miter;stroke-opacity:1\"/>\n",
       "<path class=\"bond-7\" d=\"M 140.044,116.968 133.773,114.835\" style=\"fill:none;fill-rule:evenodd;stroke:#0000FF;stroke-width:2px;stroke-linecap:butt;stroke-linejoin:miter;stroke-opacity:1\"/>\n",
       "<path class=\"bond-7\" d=\"M 133.773,114.835 127.502,112.702\" style=\"fill:none;fill-rule:evenodd;stroke:#000000;stroke-width:2px;stroke-linecap:butt;stroke-linejoin:miter;stroke-opacity:1\"/>\n",
       "<path class=\"bond-8\" d=\"M 127.502,112.702 126.24,106.337\" style=\"fill:none;fill-rule:evenodd;stroke:#000000;stroke-width:2px;stroke-linecap:butt;stroke-linejoin:miter;stroke-opacity:1\"/>\n",
       "<path class=\"bond-8\" d=\"M 126.24,106.337 124.977,99.9723\" style=\"fill:none;fill-rule:evenodd;stroke:#0000FF;stroke-width:2px;stroke-linecap:butt;stroke-linejoin:miter;stroke-opacity:1\"/>\n",
       "<path class=\"bond-17\" d=\"M 127.502,112.702 115.741,123.003\" style=\"fill:none;fill-rule:evenodd;stroke:#000000;stroke-width:2px;stroke-linecap:butt;stroke-linejoin:miter;stroke-opacity:1\"/>\n",
       "<path class=\"bond-17\" d=\"M 127.798,116.599 119.565,123.81\" style=\"fill:none;fill-rule:evenodd;stroke:#000000;stroke-width:2px;stroke-linecap:butt;stroke-linejoin:miter;stroke-opacity:1\"/>\n",
       "<path class=\"bond-9\" d=\"M 127.436,94.7609 131.828,90.9132\" style=\"fill:none;fill-rule:evenodd;stroke:#0000FF;stroke-width:2px;stroke-linecap:butt;stroke-linejoin:miter;stroke-opacity:1\"/>\n",
       "<path class=\"bond-9\" d=\"M 131.828,90.9132 136.221,87.0654\" style=\"fill:none;fill-rule:evenodd;stroke:#000000;stroke-width:2px;stroke-linecap:butt;stroke-linejoin:miter;stroke-opacity:1\"/>\n",
       "<path class=\"bond-10\" d=\"M 136.221,87.0654 151.023,92.0998\" style=\"fill:none;fill-rule:evenodd;stroke:#000000;stroke-width:2px;stroke-linecap:butt;stroke-linejoin:miter;stroke-opacity:1\"/>\n",
       "<path class=\"bond-10\" d=\"M 139.448,84.8603 149.809,88.3844\" style=\"fill:none;fill-rule:evenodd;stroke:#000000;stroke-width:2px;stroke-linecap:butt;stroke-linejoin:miter;stroke-opacity:1\"/>\n",
       "<path class=\"bond-33\" d=\"M 136.221,87.0654 133.181,71.7299\" style=\"fill:none;fill-rule:evenodd;stroke:#000000;stroke-width:2px;stroke-linecap:butt;stroke-linejoin:miter;stroke-opacity:1\"/>\n",
       "<path class=\"bond-11\" d=\"M 151.023,92.0998 162.783,81.7986\" style=\"fill:none;fill-rule:evenodd;stroke:#000000;stroke-width:2px;stroke-linecap:butt;stroke-linejoin:miter;stroke-opacity:1\"/>\n",
       "<path class=\"bond-12\" d=\"M 162.783,81.7986 159.742,66.4631\" style=\"fill:none;fill-rule:evenodd;stroke:#000000;stroke-width:2px;stroke-linecap:butt;stroke-linejoin:miter;stroke-opacity:1\"/>\n",
       "<path class=\"bond-12\" d=\"M 159.26,80.1065 157.131,69.3716\" style=\"fill:none;fill-rule:evenodd;stroke:#000000;stroke-width:2px;stroke-linecap:butt;stroke-linejoin:miter;stroke-opacity:1\"/>\n",
       "<path class=\"bond-13\" d=\"M 159.742,66.4631 164.667,62.1496\" style=\"fill:none;fill-rule:evenodd;stroke:#000000;stroke-width:2px;stroke-linecap:butt;stroke-linejoin:miter;stroke-opacity:1\"/>\n",
       "<path class=\"bond-13\" d=\"M 164.667,62.1496 169.592,57.8361\" style=\"fill:none;fill-rule:evenodd;stroke:#33CCCC;stroke-width:2px;stroke-linecap:butt;stroke-linejoin:miter;stroke-opacity:1\"/>\n",
       "<path class=\"bond-14\" d=\"M 159.742,66.4631 144.941,61.4288\" style=\"fill:none;fill-rule:evenodd;stroke:#000000;stroke-width:2px;stroke-linecap:butt;stroke-linejoin:miter;stroke-opacity:1\"/>\n",
       "<path class=\"bond-15\" d=\"M 144.941,61.4288 143.679,55.0639\" style=\"fill:none;fill-rule:evenodd;stroke:#000000;stroke-width:2px;stroke-linecap:butt;stroke-linejoin:miter;stroke-opacity:1\"/>\n",
       "<path class=\"bond-15\" d=\"M 143.679,55.0639 142.417,48.6989\" style=\"fill:none;fill-rule:evenodd;stroke:#00CC00;stroke-width:2px;stroke-linecap:butt;stroke-linejoin:miter;stroke-opacity:1\"/>\n",
       "<path class=\"bond-16\" d=\"M 144.941,61.4288 133.181,71.7299\" style=\"fill:none;fill-rule:evenodd;stroke:#000000;stroke-width:2px;stroke-linecap:butt;stroke-linejoin:miter;stroke-opacity:1\"/>\n",
       "<path class=\"bond-16\" d=\"M 145.237,65.3261 137.005,72.5369\" style=\"fill:none;fill-rule:evenodd;stroke:#000000;stroke-width:2px;stroke-linecap:butt;stroke-linejoin:miter;stroke-opacity:1\"/>\n",
       "<path class=\"bond-18\" d=\"M 115.741,123.003 100.94,117.969\" style=\"fill:none;fill-rule:evenodd;stroke:#000000;stroke-width:2px;stroke-linecap:butt;stroke-linejoin:miter;stroke-opacity:1\"/>\n",
       "<path class=\"bond-19\" d=\"M 100.94,117.969 89.1792,128.27\" style=\"fill:none;fill-rule:evenodd;stroke:#000000;stroke-width:2px;stroke-linecap:butt;stroke-linejoin:miter;stroke-opacity:1\"/>\n",
       "<path class=\"bond-19\" d=\"M 101.236,121.866 93.0035,129.077\" style=\"fill:none;fill-rule:evenodd;stroke:#000000;stroke-width:2px;stroke-linecap:butt;stroke-linejoin:miter;stroke-opacity:1\"/>\n",
       "<path class=\"bond-20\" d=\"M 89.1792,128.27 82.9953,126.167\" style=\"fill:none;fill-rule:evenodd;stroke:#000000;stroke-width:2px;stroke-linecap:butt;stroke-linejoin:miter;stroke-opacity:1\"/>\n",
       "<path class=\"bond-20\" d=\"M 82.9953,126.167 76.8115,124.063\" style=\"fill:none;fill-rule:evenodd;stroke:#FF0000;stroke-width:2px;stroke-linecap:butt;stroke-linejoin:miter;stroke-opacity:1\"/>\n",
       "<path class=\"bond-21\" d=\"M 73.8612,120.63 72.5991,114.265\" style=\"fill:none;fill-rule:evenodd;stroke:#FF0000;stroke-width:2px;stroke-linecap:butt;stroke-linejoin:miter;stroke-opacity:1\"/>\n",
       "<path class=\"bond-21\" d=\"M 72.5991,114.265 71.337,107.9\" style=\"fill:none;fill-rule:evenodd;stroke:#000000;stroke-width:2px;stroke-linecap:butt;stroke-linejoin:miter;stroke-opacity:1\"/>\n",
       "<path class=\"bond-22\" d=\"M 71.337,107.9 56.5357,102.866\" style=\"fill:none;fill-rule:evenodd;stroke:#000000;stroke-width:2px;stroke-linecap:butt;stroke-linejoin:miter;stroke-opacity:1\"/>\n",
       "<path class=\"bond-23\" d=\"M 56.5357,102.866 53.4949,87.5303\" style=\"fill:none;fill-rule:evenodd;stroke:#000000;stroke-width:2px;stroke-linecap:butt;stroke-linejoin:miter;stroke-opacity:1\"/>\n",
       "<path class=\"bond-24\" d=\"M 53.4949,87.5303 47.2235,85.3972\" style=\"fill:none;fill-rule:evenodd;stroke:#000000;stroke-width:2px;stroke-linecap:butt;stroke-linejoin:miter;stroke-opacity:1\"/>\n",
       "<path class=\"bond-24\" d=\"M 47.2235,85.3972 40.952,83.2642\" style=\"fill:none;fill-rule:evenodd;stroke:#0000FF;stroke-width:2px;stroke-linecap:butt;stroke-linejoin:miter;stroke-opacity:1\"/>\n",
       "<path class=\"bond-25\" d=\"M 38.1769,79.8903 36.9149,73.5254\" style=\"fill:none;fill-rule:evenodd;stroke:#0000FF;stroke-width:2px;stroke-linecap:butt;stroke-linejoin:miter;stroke-opacity:1\"/>\n",
       "<path class=\"bond-25\" d=\"M 36.9149,73.5254 35.6528,67.1605\" style=\"fill:none;fill-rule:evenodd;stroke:#000000;stroke-width:2px;stroke-linecap:butt;stroke-linejoin:miter;stroke-opacity:1\"/>\n",
       "<path class=\"bond-31\" d=\"M 36.4351,84.4742 31.6841,88.6357\" style=\"fill:none;fill-rule:evenodd;stroke:#0000FF;stroke-width:2px;stroke-linecap:butt;stroke-linejoin:miter;stroke-opacity:1\"/>\n",
       "<path class=\"bond-31\" d=\"M 31.6841,88.6357 26.933,92.7971\" style=\"fill:none;fill-rule:evenodd;stroke:#000000;stroke-width:2px;stroke-linecap:butt;stroke-linejoin:miter;stroke-opacity:1\"/>\n",
       "<path class=\"bond-26\" d=\"M 35.6528,67.1605 20.8515,62.1261\" style=\"fill:none;fill-rule:evenodd;stroke:#000000;stroke-width:2px;stroke-linecap:butt;stroke-linejoin:miter;stroke-opacity:1\"/>\n",
       "<path class=\"bond-27\" d=\"M 20.8515,62.1261 16.188,66.2109\" style=\"fill:none;fill-rule:evenodd;stroke:#000000;stroke-width:2px;stroke-linecap:butt;stroke-linejoin:miter;stroke-opacity:1\"/>\n",
       "<path class=\"bond-27\" d=\"M 16.188,66.2109 11.5245,70.2956\" style=\"fill:none;fill-rule:evenodd;stroke:#FF0000;stroke-width:2px;stroke-linecap:butt;stroke-linejoin:miter;stroke-opacity:1\"/>\n",
       "<path class=\"bond-28\" d=\"M 9.60757,75.033 10.8696,81.3979\" style=\"fill:none;fill-rule:evenodd;stroke:#FF0000;stroke-width:2px;stroke-linecap:butt;stroke-linejoin:miter;stroke-opacity:1\"/>\n",
       "<path class=\"bond-28\" d=\"M 10.8696,81.3979 12.1317,87.7628\" style=\"fill:none;fill-rule:evenodd;stroke:#000000;stroke-width:2px;stroke-linecap:butt;stroke-linejoin:miter;stroke-opacity:1\"/>\n",
       "<path class=\"bond-29\" d=\"M 12.1317,87.7628 26.933,92.7971\" style=\"fill:none;fill-rule:evenodd;stroke:#000000;stroke-width:2px;stroke-linecap:butt;stroke-linejoin:miter;stroke-opacity:1\"/>\n",
       "<text style=\"font-size:5px;font-style:normal;font-weight:normal;fill-opacity:1;stroke:none;font-family:sans-serif;text-anchor:start;fill:#FF0000\" x=\"78.0258\" y=\"156.512\"><tspan>O</tspan></text>\n",
       "<text style=\"font-size:5px;font-style:normal;font-weight:normal;fill-opacity:1;stroke:none;font-family:sans-serif;text-anchor:start;fill:#0000FF\" x=\"131.325\" y=\"145.979\"><tspan>N</tspan></text>\n",
       "<text style=\"font-size:5px;font-style:normal;font-weight:normal;fill-opacity:1;stroke:none;font-family:sans-serif;text-anchor:start;fill:#0000FF\" x=\"140.044\" y=\"120.342\"><tspan>N</tspan></text>\n",
       "<text style=\"font-size:5px;font-style:normal;font-weight:normal;fill-opacity:1;stroke:none;font-family:sans-serif;text-anchor:start;fill:#0000FF\" x=\"119.944\" y=\"99.9723\"><tspan>NH</tspan></text>\n",
       "<text style=\"font-size:5px;font-style:normal;font-weight:normal;fill-opacity:1;stroke:none;font-family:sans-serif;text-anchor:start;fill:#33CCCC\" x=\"169.592\" y=\"58.7677\"><tspan>F</tspan></text>\n",
       "<text style=\"font-size:5px;font-style:normal;font-weight:normal;fill-opacity:1;stroke:none;font-family:sans-serif;text-anchor:start;fill:#00CC00\" x=\"138.947\" y=\"48.6989\"><tspan>Cl</tspan></text>\n",
       "<text style=\"font-size:5px;font-style:normal;font-weight:normal;fill-opacity:1;stroke:none;font-family:sans-serif;text-anchor:start;fill:#FF0000\" x=\"71.9442\" y=\"125.841\"><tspan>O</tspan></text>\n",
       "<text style=\"font-size:5px;font-style:normal;font-weight:normal;fill-opacity:1;stroke:none;font-family:sans-serif;text-anchor:start;fill:#0000FF\" x=\"36.4351\" y=\"85.1017\"><tspan>N</tspan></text>\n",
       "<text style=\"font-size:5px;font-style:normal;font-weight:normal;fill-opacity:1;stroke:none;font-family:sans-serif;text-anchor:start;fill:#FF0000\" x=\"6.65727\" y=\"75.033\"><tspan>O</tspan></text>\n",
       "<path class=\"bond-0\" d=\"M 390.909,69.4048 381.648,82.0003\" style=\"fill:none;fill-rule:evenodd;stroke:#000000;stroke-width:2px;stroke-linecap:butt;stroke-linejoin:miter;stroke-opacity:1\"/>\n",
       "<path class=\"bond-1\" d=\"M 381.648,82.0003 372.386,94.5958\" style=\"fill:none;fill-rule:evenodd;stroke:#000000;stroke-width:2px;stroke-linecap:butt;stroke-linejoin:miter;stroke-opacity:1\"/>\n",
       "<path class=\"bond-1\" d=\"M 377.739,82.0373 371.256,90.8542\" style=\"fill:none;fill-rule:evenodd;stroke:#000000;stroke-width:2px;stroke-linecap:butt;stroke-linejoin:miter;stroke-opacity:1\"/>\n",
       "<path class=\"bond-1\" d=\"M 382.777,85.742 376.294,94.5588\" style=\"fill:none;fill-rule:evenodd;stroke:#000000;stroke-width:2px;stroke-linecap:butt;stroke-linejoin:miter;stroke-opacity:1\"/>\n",
       "<path class=\"bond-2\" d=\"M 372.386,94.5958 363.124,107.191\" style=\"fill:none;fill-rule:evenodd;stroke:#000000;stroke-width:2px;stroke-linecap:butt;stroke-linejoin:miter;stroke-opacity:1\"/>\n",
       "<path class=\"bond-3\" d=\"M 363.124,107.191 369.402,121.51\" style=\"fill:none;fill-rule:evenodd;stroke:#000000;stroke-width:2px;stroke-linecap:butt;stroke-linejoin:miter;stroke-opacity:1\"/>\n",
       "<path class=\"bond-3\" d=\"M 361.202,110.595 365.596,120.618\" style=\"fill:none;fill-rule:evenodd;stroke:#000000;stroke-width:2px;stroke-linecap:butt;stroke-linejoin:miter;stroke-opacity:1\"/>\n",
       "<path class=\"bond-29\" d=\"M 363.124,107.191 347.585,105.468\" style=\"fill:none;fill-rule:evenodd;stroke:#000000;stroke-width:2px;stroke-linecap:butt;stroke-linejoin:miter;stroke-opacity:1\"/>\n",
       "<path class=\"bond-4\" d=\"M 369.402,121.51 360.14,134.105\" style=\"fill:none;fill-rule:evenodd;stroke:#000000;stroke-width:2px;stroke-linecap:butt;stroke-linejoin:miter;stroke-opacity:1\"/>\n",
       "<path class=\"bond-5\" d=\"M 360.14,134.105 344.601,132.382\" style=\"fill:none;fill-rule:evenodd;stroke:#000000;stroke-width:2px;stroke-linecap:butt;stroke-linejoin:miter;stroke-opacity:1\"/>\n",
       "<path class=\"bond-5\" d=\"M 358.154,130.739 347.277,129.533\" style=\"fill:none;fill-rule:evenodd;stroke:#000000;stroke-width:2px;stroke-linecap:butt;stroke-linejoin:miter;stroke-opacity:1\"/>\n",
       "<path class=\"bond-6\" d=\"M 344.601,132.382 338.324,118.064\" style=\"fill:none;fill-rule:evenodd;stroke:#000000;stroke-width:2px;stroke-linecap:butt;stroke-linejoin:miter;stroke-opacity:1\"/>\n",
       "<path class=\"bond-7\" d=\"M 338.324,118.064 332.813,117.453\" style=\"fill:none;fill-rule:evenodd;stroke:#000000;stroke-width:2px;stroke-linecap:butt;stroke-linejoin:miter;stroke-opacity:1\"/>\n",
       "<path class=\"bond-7\" d=\"M 332.813,117.453 327.302,116.842\" style=\"fill:none;fill-rule:evenodd;stroke:#0000FF;stroke-width:2px;stroke-linecap:butt;stroke-linejoin:miter;stroke-opacity:1\"/>\n",
       "<path class=\"bond-28\" d=\"M 338.324,118.064 347.585,105.468\" style=\"fill:none;fill-rule:evenodd;stroke:#000000;stroke-width:2px;stroke-linecap:butt;stroke-linejoin:miter;stroke-opacity:1\"/>\n",
       "<path class=\"bond-28\" d=\"M 342.232,118.027 348.715,109.21\" style=\"fill:none;fill-rule:evenodd;stroke:#000000;stroke-width:2px;stroke-linecap:butt;stroke-linejoin:miter;stroke-opacity:1\"/>\n",
       "<path class=\"bond-8\" d=\"M 321.643,113.735 319.075,107.879\" style=\"fill:none;fill-rule:evenodd;stroke:#0000FF;stroke-width:2px;stroke-linecap:butt;stroke-linejoin:miter;stroke-opacity:1\"/>\n",
       "<path class=\"bond-8\" d=\"M 319.075,107.879 316.508,102.022\" style=\"fill:none;fill-rule:evenodd;stroke:#000000;stroke-width:2px;stroke-linecap:butt;stroke-linejoin:miter;stroke-opacity:1\"/>\n",
       "<path class=\"bond-9\" d=\"M 316.508,102.022 320.181,97.0274\" style=\"fill:none;fill-rule:evenodd;stroke:#000000;stroke-width:2px;stroke-linecap:butt;stroke-linejoin:miter;stroke-opacity:1\"/>\n",
       "<path class=\"bond-9\" d=\"M 320.181,97.0274 323.853,92.0325\" style=\"fill:none;fill-rule:evenodd;stroke:#0000FF;stroke-width:2px;stroke-linecap:butt;stroke-linejoin:miter;stroke-opacity:1\"/>\n",
       "<path class=\"bond-9\" d=\"M 315.091,98.6715 317.662,95.1751\" style=\"fill:none;fill-rule:evenodd;stroke:#000000;stroke-width:2px;stroke-linecap:butt;stroke-linejoin:miter;stroke-opacity:1\"/>\n",
       "<path class=\"bond-9\" d=\"M 317.662,95.1751 320.232,91.6786\" style=\"fill:none;fill-rule:evenodd;stroke:#0000FF;stroke-width:2px;stroke-linecap:butt;stroke-linejoin:miter;stroke-opacity:1\"/>\n",
       "<path class=\"bond-30\" d=\"M 316.508,102.022 300.969,100.299\" style=\"fill:none;fill-rule:evenodd;stroke:#000000;stroke-width:2px;stroke-linecap:butt;stroke-linejoin:miter;stroke-opacity:1\"/>\n",
       "<path class=\"bond-10\" d=\"M 324.627,86.8211 322.06,80.9647\" style=\"fill:none;fill-rule:evenodd;stroke:#0000FF;stroke-width:2px;stroke-linecap:butt;stroke-linejoin:miter;stroke-opacity:1\"/>\n",
       "<path class=\"bond-10\" d=\"M 322.06,80.9647 319.492,75.1083\" style=\"fill:none;fill-rule:evenodd;stroke:#000000;stroke-width:2px;stroke-linecap:butt;stroke-linejoin:miter;stroke-opacity:1\"/>\n",
       "<path class=\"bond-11\" d=\"M 319.492,75.1083 312.852,74.372\" style=\"fill:none;fill-rule:evenodd;stroke:#000000;stroke-width:2px;stroke-linecap:butt;stroke-linejoin:miter;stroke-opacity:1\"/>\n",
       "<path class=\"bond-11\" d=\"M 312.852,74.372 306.212,73.6357\" style=\"fill:none;fill-rule:evenodd;stroke:#0000FF;stroke-width:2px;stroke-linecap:butt;stroke-linejoin:miter;stroke-opacity:1\"/>\n",
       "<path class=\"bond-11\" d=\"M 317.155,77.9951 312.507,77.4797\" style=\"fill:none;fill-rule:evenodd;stroke:#000000;stroke-width:2px;stroke-linecap:butt;stroke-linejoin:miter;stroke-opacity:1\"/>\n",
       "<path class=\"bond-11\" d=\"M 312.507,77.4797 307.859,76.9643\" style=\"fill:none;fill-rule:evenodd;stroke:#0000FF;stroke-width:2px;stroke-linecap:butt;stroke-linejoin:miter;stroke-opacity:1\"/>\n",
       "<path class=\"bond-12\" d=\"M 302.037,75.9909 298.365,80.9859\" style=\"fill:none;fill-rule:evenodd;stroke:#0000FF;stroke-width:2px;stroke-linecap:butt;stroke-linejoin:miter;stroke-opacity:1\"/>\n",
       "<path class=\"bond-12\" d=\"M 298.365,80.9859 294.692,85.9808\" style=\"fill:none;fill-rule:evenodd;stroke:#000000;stroke-width:2px;stroke-linecap:butt;stroke-linejoin:miter;stroke-opacity:1\"/>\n",
       "<path class=\"bond-13\" d=\"M 294.692,85.9808 279.153,84.2578\" style=\"fill:none;fill-rule:evenodd;stroke:#000000;stroke-width:2px;stroke-linecap:butt;stroke-linejoin:miter;stroke-opacity:1\"/>\n",
       "<path class=\"bond-13\" d=\"M 292.016,88.8301 281.139,87.624\" style=\"fill:none;fill-rule:evenodd;stroke:#000000;stroke-width:2px;stroke-linecap:butt;stroke-linejoin:miter;stroke-opacity:1\"/>\n",
       "<path class=\"bond-31\" d=\"M 294.692,85.9808 300.969,100.299\" style=\"fill:none;fill-rule:evenodd;stroke:#000000;stroke-width:2px;stroke-linecap:butt;stroke-linejoin:miter;stroke-opacity:1\"/>\n",
       "<path class=\"bond-14\" d=\"M 279.153,84.2578 269.891,96.8533\" style=\"fill:none;fill-rule:evenodd;stroke:#000000;stroke-width:2px;stroke-linecap:butt;stroke-linejoin:miter;stroke-opacity:1\"/>\n",
       "<path class=\"bond-15\" d=\"M 269.891,96.8533 263.339,96.1267\" style=\"fill:none;fill-rule:evenodd;stroke:#000000;stroke-width:2px;stroke-linecap:butt;stroke-linejoin:miter;stroke-opacity:1\"/>\n",
       "<path class=\"bond-15\" d=\"M 263.339,96.1267 256.786,95.4001\" style=\"fill:none;fill-rule:evenodd;stroke:#FF0000;stroke-width:2px;stroke-linecap:butt;stroke-linejoin:miter;stroke-opacity:1\"/>\n",
       "<path class=\"bond-20\" d=\"M 269.891,96.8533 276.169,111.172\" style=\"fill:none;fill-rule:evenodd;stroke:#000000;stroke-width:2px;stroke-linecap:butt;stroke-linejoin:miter;stroke-opacity:1\"/>\n",
       "<path class=\"bond-20\" d=\"M 273.697,97.7456 278.091,107.769\" style=\"fill:none;fill-rule:evenodd;stroke:#000000;stroke-width:2px;stroke-linecap:butt;stroke-linejoin:miter;stroke-opacity:1\"/>\n",
       "<path class=\"bond-16\" d=\"M 253.21,92.5246 250.643,86.6682\" style=\"fill:none;fill-rule:evenodd;stroke:#FF0000;stroke-width:2px;stroke-linecap:butt;stroke-linejoin:miter;stroke-opacity:1\"/>\n",
       "<path class=\"bond-16\" d=\"M 250.643,86.6682 248.075,80.8117\" style=\"fill:none;fill-rule:evenodd;stroke:#000000;stroke-width:2px;stroke-linecap:butt;stroke-linejoin:miter;stroke-opacity:1\"/>\n",
       "<path class=\"bond-17\" d=\"M 248.075,80.8117 232.536,79.0887\" style=\"fill:none;fill-rule:evenodd;stroke:#000000;stroke-width:2px;stroke-linecap:butt;stroke-linejoin:miter;stroke-opacity:1\"/>\n",
       "<path class=\"bond-18\" d=\"M 232.536,79.0887 229.969,73.2323\" style=\"fill:none;fill-rule:evenodd;stroke:#000000;stroke-width:2px;stroke-linecap:butt;stroke-linejoin:miter;stroke-opacity:1\"/>\n",
       "<path class=\"bond-18\" d=\"M 229.969,73.2323 227.401,67.3759\" style=\"fill:none;fill-rule:evenodd;stroke:#FF0000;stroke-width:2px;stroke-linecap:butt;stroke-linejoin:miter;stroke-opacity:1\"/>\n",
       "<path class=\"bond-19\" d=\"M 223.825,64.5003 217.273,63.7738\" style=\"fill:none;fill-rule:evenodd;stroke:#FF0000;stroke-width:2px;stroke-linecap:butt;stroke-linejoin:miter;stroke-opacity:1\"/>\n",
       "<path class=\"bond-19\" d=\"M 217.273,63.7738 210.72,63.0472\" style=\"fill:none;fill-rule:evenodd;stroke:#000000;stroke-width:2px;stroke-linecap:butt;stroke-linejoin:miter;stroke-opacity:1\"/>\n",
       "<path class=\"bond-21\" d=\"M 276.169,111.172 272.496,116.167\" style=\"fill:none;fill-rule:evenodd;stroke:#000000;stroke-width:2px;stroke-linecap:butt;stroke-linejoin:miter;stroke-opacity:1\"/>\n",
       "<path class=\"bond-21\" d=\"M 272.496,116.167 268.823,121.162\" style=\"fill:none;fill-rule:evenodd;stroke:#FF0000;stroke-width:2px;stroke-linecap:butt;stroke-linejoin:miter;stroke-opacity:1\"/>\n",
       "<path class=\"bond-26\" d=\"M 276.169,111.172 291.707,112.895\" style=\"fill:none;fill-rule:evenodd;stroke:#000000;stroke-width:2px;stroke-linecap:butt;stroke-linejoin:miter;stroke-opacity:1\"/>\n",
       "<path class=\"bond-22\" d=\"M 264.473,123.497 257.921,122.771\" style=\"fill:none;fill-rule:evenodd;stroke:#FF0000;stroke-width:2px;stroke-linecap:butt;stroke-linejoin:miter;stroke-opacity:1\"/>\n",
       "<path class=\"bond-22\" d=\"M 257.921,122.771 251.368,122.044\" style=\"fill:none;fill-rule:evenodd;stroke:#000000;stroke-width:2px;stroke-linecap:butt;stroke-linejoin:miter;stroke-opacity:1\"/>\n",
       "<path class=\"bond-23\" d=\"M 251.368,122.044 242.107,134.64\" style=\"fill:none;fill-rule:evenodd;stroke:#000000;stroke-width:2px;stroke-linecap:butt;stroke-linejoin:miter;stroke-opacity:1\"/>\n",
       "<path class=\"bond-24\" d=\"M 242.107,134.64 235.554,133.913\" style=\"fill:none;fill-rule:evenodd;stroke:#000000;stroke-width:2px;stroke-linecap:butt;stroke-linejoin:miter;stroke-opacity:1\"/>\n",
       "<path class=\"bond-24\" d=\"M 235.554,133.913 229.001,133.187\" style=\"fill:none;fill-rule:evenodd;stroke:#FF0000;stroke-width:2px;stroke-linecap:butt;stroke-linejoin:miter;stroke-opacity:1\"/>\n",
       "<path class=\"bond-25\" d=\"M 224.652,135.523 220.979,140.517\" style=\"fill:none;fill-rule:evenodd;stroke:#FF0000;stroke-width:2px;stroke-linecap:butt;stroke-linejoin:miter;stroke-opacity:1\"/>\n",
       "<path class=\"bond-25\" d=\"M 220.979,140.517 217.306,145.512\" style=\"fill:none;fill-rule:evenodd;stroke:#000000;stroke-width:2px;stroke-linecap:butt;stroke-linejoin:miter;stroke-opacity:1\"/>\n",
       "<path class=\"bond-27\" d=\"M 291.707,112.895 300.969,100.299\" style=\"fill:none;fill-rule:evenodd;stroke:#000000;stroke-width:2px;stroke-linecap:butt;stroke-linejoin:miter;stroke-opacity:1\"/>\n",
       "<path class=\"bond-27\" d=\"M 290.578,109.153 297.061,100.336\" style=\"fill:none;fill-rule:evenodd;stroke:#000000;stroke-width:2px;stroke-linecap:butt;stroke-linejoin:miter;stroke-opacity:1\"/>\n",
       "<text style=\"font-size:5px;font-style:normal;font-weight:normal;fill-opacity:1;stroke:none;font-family:sans-serif;text-anchor:start;fill:#0000FF\" x=\"318.268\" y=\"118.947\"><tspan>NH</tspan></text>\n",
       "<text style=\"font-size:5px;font-style:normal;font-weight:normal;fill-opacity:1;stroke:none;font-family:sans-serif;text-anchor:start;fill:#0000FF\" x=\"323.511\" y=\"92.0325\"><tspan>N</tspan></text>\n",
       "<text style=\"font-size:5px;font-style:normal;font-weight:normal;fill-opacity:1;stroke:none;font-family:sans-serif;text-anchor:start;fill:#0000FF\" x=\"301.695\" y=\"75.9909\"><tspan>N</tspan></text>\n",
       "<text style=\"font-size:5px;font-style:normal;font-weight:normal;fill-opacity:1;stroke:none;font-family:sans-serif;text-anchor:start;fill:#FF0000\" x=\"251.919\" y=\"97.736\"><tspan>O</tspan></text>\n",
       "<text style=\"font-size:5px;font-style:normal;font-weight:normal;fill-opacity:1;stroke:none;font-family:sans-serif;text-anchor:start;fill:#FF0000\" x=\"223.825\" y=\"67.3759\"><tspan>O</tspan></text>\n",
       "<text style=\"font-size:5px;font-style:normal;font-weight:normal;fill-opacity:1;stroke:none;font-family:sans-serif;text-anchor:start;fill:#FF0000\" x=\"264.473\" y=\"126.373\"><tspan>O</tspan></text>\n",
       "<text style=\"font-size:5px;font-style:normal;font-weight:normal;fill-opacity:1;stroke:none;font-family:sans-serif;text-anchor:start;fill:#FF0000\" x=\"224.134\" y=\"135.523\"><tspan>O</tspan></text>\n",
       "</svg>"
      ],
      "text/plain": [
       "<IPython.core.display.SVG object>"
      ]
     },
     "execution_count": 31,
     "metadata": {},
     "output_type": "execute_result"
    }
   ],
   "source": [
    "# List of molecules\n",
    "Draw.MolsToGridImage([mol1,mol2], useSVG=True)"
   ]
  },
  {
   "cell_type": "markdown",
   "metadata": {},
   "source": [
    "#### Molecule representation"
   ]
  },
  {
   "cell_type": "code",
   "execution_count": 6,
   "metadata": {
    "scrolled": true
   },
   "outputs": [
    {
     "name": "stdout",
     "output_type": "stream",
     "text": [
      "\n",
      "     RDKit          2D\n",
      "\n",
      " 31 34  0  0  0  0  0  0  0  0999 V2000\n",
      "    0.7500   -6.4952    0.0000 C   0  0  0  0  0  0  0  0  0  0  0  0\n",
      "    1.5000   -5.1962    0.0000 O   0  0  0  0  0  0  0  0  0  0  0  0\n",
      "    0.7500   -3.8971    0.0000 C   0  0  0  0  0  0  0  0  0  0  0  0\n",
      "    1.5000   -2.5981    0.0000 C   0  0  0  0  0  0  0  0  0  0  0  0\n",
      "    0.7500   -1.2990    0.0000 C   0  0  0  0  0  0  0  0  0  0  0  0\n",
      "    1.5000    0.0000    0.0000 N   0  0  0  0  0  0  0  0  0  0  0  0\n",
      "    0.7500    1.2990    0.0000 C   0  0  0  0  0  0  0  0  0  0  0  0\n",
      "   -0.7500    1.2990    0.0000 N   0  0  0  0  0  0  0  0  0  0  0  0\n",
      "   -1.5000    0.0000    0.0000 C   0  0  0  0  0  0  0  0  0  0  0  0\n",
      "   -3.0000    0.0000    0.0000 N   0  0  0  0  0  0  0  0  0  0  0  0\n",
      "   -3.7500    1.2990    0.0000 C   0  0  0  0  0  0  0  0  0  0  0  0\n",
      "   -3.0000    2.5981    0.0000 C   0  0  0  0  0  0  0  0  0  0  0  0\n",
      "   -3.7500    3.8971    0.0000 C   0  0  0  0  0  0  0  0  0  0  0  0\n",
      "   -5.2500    3.8971    0.0000 C   0  0  0  0  0  0  0  0  0  0  0  0\n",
      "   -6.0000    5.1962    0.0000 F   0  0  0  0  0  0  0  0  0  0  0  0\n",
      "   -6.0000    2.5981    0.0000 C   0  0  0  0  0  0  0  0  0  0  0  0\n",
      "   -7.5000    2.5981    0.0000 Cl  0  0  0  0  0  0  0  0  0  0  0  0\n",
      "   -5.2500    1.2990    0.0000 C   0  0  0  0  0  0  0  0  0  0  0  0\n",
      "   -0.7500   -1.2990    0.0000 C   0  0  0  0  0  0  0  0  0  0  0  0\n",
      "   -1.5000   -2.5981    0.0000 C   0  0  0  0  0  0  0  0  0  0  0  0\n",
      "   -0.7500   -3.8971    0.0000 C   0  0  0  0  0  0  0  0  0  0  0  0\n",
      "   -1.5000   -5.1962    0.0000 O   0  0  0  0  0  0  0  0  0  0  0  0\n",
      "   -3.0000   -5.1962    0.0000 C   0  0  0  0  0  0  0  0  0  0  0  0\n",
      "   -3.7500   -6.4952    0.0000 C   0  0  0  0  0  0  0  0  0  0  0  0\n",
      "   -5.2500   -6.4952    0.0000 C   0  0  0  0  0  0  0  0  0  0  0  0\n",
      "   -6.0000   -7.7942    0.0000 N   0  0  0  0  0  0  0  0  0  0  0  0\n",
      "   -7.5000   -7.7942    0.0000 C   0  0  0  0  0  0  0  0  0  0  0  0\n",
      "   -8.2500   -9.0933    0.0000 C   0  0  0  0  0  0  0  0  0  0  0  0\n",
      "   -7.5000  -10.3923    0.0000 O   0  0  0  0  0  0  0  0  0  0  0  0\n",
      "   -6.0000  -10.3923    0.0000 C   0  0  0  0  0  0  0  0  0  0  0  0\n",
      "   -5.2500   -9.0933    0.0000 C   0  0  0  0  0  0  0  0  0  0  0  0\n",
      "  1  2  1  0\n",
      "  2  3  1  0\n",
      "  3  4  2  0\n",
      "  4  5  1  0\n",
      "  5  6  2  0\n",
      "  6  7  1  0\n",
      "  7  8  2  0\n",
      "  8  9  1  0\n",
      "  9 10  1  0\n",
      " 10 11  1  0\n",
      " 11 12  2  0\n",
      " 12 13  1  0\n",
      " 13 14  2  0\n",
      " 14 15  1  0\n",
      " 14 16  1  0\n",
      " 16 17  1  0\n",
      " 16 18  2  0\n",
      "  9 19  2  0\n",
      " 19 20  1  0\n",
      " 20 21  2  0\n",
      " 21 22  1  0\n",
      " 22 23  1  0\n",
      " 23 24  1  0\n",
      " 24 25  1  0\n",
      " 25 26  1  0\n",
      " 26 27  1  0\n",
      " 27 28  1  0\n",
      " 28 29  1  0\n",
      " 29 30  1  0\n",
      " 30 31  1  0\n",
      " 21  3  1  0\n",
      " 31 26  1  0\n",
      " 19  5  1  0\n",
      " 18 11  1  0\n",
      "M  END\n",
      "\n"
     ]
    }
   ],
   "source": [
    "# Molecule representation\n",
    "print(Chem.MolToMolBlock(mol1))"
   ]
  },
  {
   "cell_type": "markdown",
   "metadata": {},
   "source": [
    "### Generating 3D coordinates"
   ]
  },
  {
   "cell_type": "code",
   "execution_count": 35,
   "metadata": {},
   "outputs": [
    {
     "data": {
      "image/png": "[encoded data removed]",
      "text/plain": [
       "<PIL.PngImagePlugin.PngImageFile image mode=RGB size=600x200 at 0x12624D7D0>"
      ]
     },
     "execution_count": 35,
     "metadata": {},
     "output_type": "execute_result"
    }
   ],
   "source": [
    "m_3D = Chem.AddHs(mol1)\n",
    "AllChem.EmbedMolecule(m_3D)\n",
    "#AllChem.UFFOptimizeMolecule(m_3D) # Improves the quality of the conformation; this step should not be necessary since v2018.09: default conformations use ETKDG\n",
    "Draw.MolsToGridImage([mol1,m_3D])"
   ]
  },
  {
   "cell_type": "code",
   "execution_count": 36,
   "metadata": {},
   "outputs": [
    {
     "name": "stdout",
     "output_type": "stream",
     "text": [
      "\n",
      "     RDKit          3D\n",
      "\n",
      " 55 58  0  0  0  0  0  0  0  0999 V2000\n",
      "    0.3072   -4.7003    4.1795 C   0  0  0  0  0  0  0  0  0  0  0  0\n",
      "    0.5830   -3.9064    3.0424 O   0  0  0  0  0  0  0  0  0  0  0  0\n",
      "   -0.3850   -3.0285    2.5289 C   0  0  0  0  0  0  0  0  0  0  0  0\n",
      "   -1.6205   -2.8956    3.0860 C   0  0  0  0  0  0  0  0  0  0  0  0\n",
      "   -2.5384   -2.0138    2.5387 C   0  0  0  0  0  0  0  0  0  0  0  0\n",
      "   -3.7617   -1.8710    3.0731 N   0  0  0  0  0  0  0  0  0  0  0  0\n",
      "   -4.6826   -1.0308    2.5745 C   0  0  0  0  0  0  0  0  0  0  0  0\n",
      "   -4.3437   -0.3125    1.4948 N   0  0  0  0  0  0  0  0  0  0  0  0\n",
      "   -3.1516   -0.3697    0.8736 C   0  0  0  0  0  0  0  0  0  0  0  0\n",
      "   -2.8476    0.4418   -0.2302 N   0  0  0  0  0  0  0  0  0  0  0  0\n",
      "   -3.8168    1.2994   -0.7986 C   0  0  0  0  0  0  0  0  0  0  0  0\n",
      "   -5.1644    1.1186   -0.8418 C   0  0  0  0  0  0  0  0  0  0  0  0\n",
      "   -6.0349    2.0576   -1.4047 C   0  0  0  0  0  0  0  0  0  0  0  0\n",
      "   -5.5081    3.1988   -1.9315 C   0  0  0  0  0  0  0  0  0  0  0  0\n",
      "   -6.3348    4.1128   -2.4772 F   0  0  0  0  0  0  0  0  0  0  0  0\n",
      "   -4.1683    3.4274   -1.9145 C   0  0  0  0  0  0  0  0  0  0  0  0\n",
      "   -3.4522    4.8867   -2.5846 Cl  0  0  0  0  0  0  0  0  0  0  0  0\n",
      "   -3.3386    2.4905   -1.3562 C   0  0  0  0  0  0  0  0  0  0  0  0\n",
      "   -2.2205   -1.2435    1.4069 C   0  0  0  0  0  0  0  0  0  0  0  0\n",
      "   -0.9893   -1.3693    0.8422 C   0  0  0  0  0  0  0  0  0  0  0  0\n",
      "   -0.0652   -2.2570    1.3951 C   0  0  0  0  0  0  0  0  0  0  0  0\n",
      "    1.1686   -2.4163    0.8785 O   0  0  0  0  0  0  0  0  0  0  0  0\n",
      "    1.8604   -1.8403   -0.1615 C   0  0  0  0  0  0  0  0  0  0  0  0\n",
      "    2.1666   -0.3674   -0.0277 C   0  0  0  0  0  0  0  0  0  0  0  0\n",
      "    2.9185    0.1052   -1.2557 C   0  0  0  0  0  0  0  0  0  0  0  0\n",
      "    3.2490    1.4946   -1.2119 N   0  0  0  0  0  0  0  0  0  0  0  0\n",
      "    4.2323    1.8268   -0.2077 C   0  0  0  0  0  0  0  0  0  0  0  0\n",
      "    5.6163    1.3684   -0.5207 C   0  0  0  0  0  0  0  0  0  0  0  0\n",
      "    5.7589    1.0784   -1.8740 O   0  0  0  0  0  0  0  0  0  0  0  0\n",
      "    5.1744    2.1255   -2.5859 C   0  0  0  0  0  0  0  0  0  0  0  0\n",
      "    3.6728    1.9361   -2.5253 C   0  0  0  0  0  0  0  0  0  0  0  0\n",
      "    0.9783   -5.5920    4.2006 H   0  0  0  0  0  0  0  0  0  0  0  0\n",
      "    0.4206   -4.1073    5.1222 H   0  0  0  0  0  0  0  0  0  0  0  0\n",
      "   -0.7292   -5.0858    4.1783 H   0  0  0  0  0  0  0  0  0  0  0  0\n",
      "   -1.9263   -3.4521    3.9480 H   0  0  0  0  0  0  0  0  0  0  0  0\n",
      "   -5.6569   -0.9468    3.0366 H   0  0  0  0  0  0  0  0  0  0  0  0\n",
      "   -1.8799    0.4504   -0.6855 H   0  0  0  0  0  0  0  0  0  0  0  0\n",
      "   -5.6297    0.2161   -0.4570 H   0  0  0  0  0  0  0  0  0  0  0  0\n",
      "   -7.1042    1.8588   -1.4103 H   0  0  0  0  0  0  0  0  0  0  0  0\n",
      "   -2.2655    2.6895   -1.3508 H   0  0  0  0  0  0  0  0  0  0  0  0\n",
      "   -0.7377   -0.8085   -0.0366 H   0  0  0  0  0  0  0  0  0  0  0  0\n",
      "    2.8207   -2.3735   -0.3991 H   0  0  0  0  0  0  0  0  0  0  0  0\n",
      "    1.2627   -2.0018   -1.1196 H   0  0  0  0  0  0  0  0  0  0  0  0\n",
      "    2.7883   -0.1888    0.9041 H   0  0  0  0  0  0  0  0  0  0  0  0\n",
      "    1.2529    0.1973    0.1438 H   0  0  0  0  0  0  0  0  0  0  0  0\n",
      "    3.7865   -0.5502   -1.4689 H   0  0  0  0  0  0  0  0  0  0  0  0\n",
      "    2.2199   -0.0423   -2.1145 H   0  0  0  0  0  0  0  0  0  0  0  0\n",
      "    3.9461    1.4779    0.7808 H   0  0  0  0  0  0  0  0  0  0  0  0\n",
      "    4.2653    2.9521   -0.1674 H   0  0  0  0  0  0  0  0  0  0  0  0\n",
      "    6.3953    2.1403   -0.2670 H   0  0  0  0  0  0  0  0  0  0  0  0\n",
      "    5.9038    0.4695    0.0864 H   0  0  0  0  0  0  0  0  0  0  0  0\n",
      "    5.5636    2.1309   -3.6027 H   0  0  0  0  0  0  0  0  0  0  0  0\n",
      "    5.4556    3.0627   -2.0498 H   0  0  0  0  0  0  0  0  0  0  0  0\n",
      "    3.3838    1.2407   -3.3102 H   0  0  0  0  0  0  0  0  0  0  0  0\n",
      "    3.2020    2.9166   -2.7146 H   0  0  0  0  0  0  0  0  0  0  0  0\n",
      "  1  2  1  0\n",
      "  2  3  1  0\n",
      "  3  4  2  0\n",
      "  4  5  1  0\n",
      "  5  6  2  0\n",
      "  6  7  1  0\n",
      "  7  8  2  0\n",
      "  8  9  1  0\n",
      "  9 10  1  0\n",
      " 10 11  1  0\n",
      " 11 12  2  0\n",
      " 12 13  1  0\n",
      " 13 14  2  0\n",
      " 14 15  1  0\n",
      " 14 16  1  0\n",
      " 16 17  1  0\n",
      " 16 18  2  0\n",
      "  9 19  2  0\n",
      " 19 20  1  0\n",
      " 20 21  2  0\n",
      " 21 22  1  0\n",
      " 22 23  1  0\n",
      " 23 24  1  0\n",
      " 24 25  1  0\n",
      " 25 26  1  0\n",
      " 26 27  1  0\n",
      " 27 28  1  0\n",
      " 28 29  1  0\n",
      " 29 30  1  0\n",
      " 30 31  1  0\n",
      " 21  3  1  0\n",
      " 31 26  1  0\n",
      " 19  5  1  0\n",
      " 18 11  1  0\n",
      "  1 32  1  0\n",
      "  1 33  1  0\n",
      "  1 34  1  0\n",
      "  4 35  1  0\n",
      "  7 36  1  0\n",
      " 10 37  1  0\n",
      " 12 38  1  0\n",
      " 13 39  1  0\n",
      " 18 40  1  0\n",
      " 20 41  1  0\n",
      " 23 42  1  0\n",
      " 23 43  1  0\n",
      " 24 44  1  0\n",
      " 24 45  1  0\n",
      " 25 46  1  0\n",
      " 25 47  1  0\n",
      " 27 48  1  0\n",
      " 27 49  1  0\n",
      " 28 50  1  0\n",
      " 28 51  1  0\n",
      " 30 52  1  0\n",
      " 30 53  1  0\n",
      " 31 54  1  0\n",
      " 31 55  1  0\n",
      "M  END\n",
      "\n"
     ]
    }
   ],
   "source": [
    "print(Chem.MolToMolBlock(m_3D))"
   ]
  },
  {
   "cell_type": "markdown",
   "metadata": {},
   "source": [
    "### Writing molecules to *sdf* (structure data files)"
   ]
  },
  {
   "cell_type": "code",
   "execution_count": 37,
   "metadata": {},
   "outputs": [],
   "source": [
    "w = Chem.SDWriter('./data/mytest_mol3D.sdf')\n",
    "w.write(m_3D)\n",
    "w.close()"
   ]
  },
  {
   "cell_type": "markdown",
   "metadata": {},
   "source": [
    "### Descriptors\n",
    "\n",
    "#### Molecular descriptors (global)"
   ]
  },
  {
   "cell_type": "code",
   "execution_count": 11,
   "metadata": {},
   "outputs": [],
   "source": [
    "from rdkit.Chem import Descriptors"
   ]
  },
  {
   "cell_type": "code",
   "execution_count": 38,
   "metadata": {},
   "outputs": [
    {
     "name": "stdout",
     "output_type": "stream",
     "text": [
      "Heavy atoms: 31\n",
      "H-bond donors: 1\n",
      "H-bond acceptors: 7\n",
      "Molecular weight: 446.9100000000004\n",
      "LogP: 4.275600000000003\n"
     ]
    }
   ],
   "source": [
    "print ('Heavy atoms:', Descriptors.HeavyAtomCount(mol1))\n",
    "print ('H-bond donors:', Descriptors.NumHDonors(mol1))\n",
    "print ('H-bond acceptors:', Descriptors.NumHAcceptors(mol1))\n",
    "print ('Molecular weight:', Descriptors.MolWt(mol1))\n",
    "print ('LogP:', Descriptors.MolLogP(mol1))"
   ]
  },
  {
   "cell_type": "code",
   "execution_count": 39,
   "metadata": {},
   "outputs": [
    {
     "name": "stdout",
     "output_type": "stream",
     "text": [
      "Heavy atoms: 29\n",
      "H-bond donors: 1\n",
      "H-bond acceptors: 7\n",
      "Molecular weight: 393.4430000000002\n",
      "LogP: 3.405100000000002\n"
     ]
    }
   ],
   "source": [
    "print ('Heavy atoms:', Descriptors.HeavyAtomCount(mol2))\n",
    "print ('H-bond donors:', Descriptors.NumHDonors(mol2))\n",
    "print ('H-bond acceptors:', Descriptors.NumHAcceptors(mol2))\n",
    "print ('Molecular weight:', Descriptors.MolWt(mol2))\n",
    "print ('LogP:', Descriptors.MolLogP(mol2))"
   ]
  },
  {
   "cell_type": "markdown",
   "metadata": {},
   "source": [
    "#### Better for similarity search: Molecular fingerprints\n",
    "\n",
    "GL: I don't see any utility in introducing MACCS keys to beginners. These days I think they are primarily of historic interest and it would be better to use something the Morgan FP or RDKit FP here. Or, if you want something simple, atom pairs/topological torsions. If you're going to use them, you might as well pull the SMARTS from the RDKit directly instead of retyping them in. I've changed that.\n",
    "\n",
    "#### MACCS keys\n",
    "\n",
    "* There is a SMARTS-based implementation of the 166 public MACCS keys (certain substructure/SMARTS keys which are expected to be found)\n",
    "* The MACCS keys are a set of questions about a chemical structure\n",
    "* Based on counting substructural features"
   ]
  },
  {
   "cell_type": "code",
   "execution_count": 40,
   "metadata": {},
   "outputs": [
    {
     "name": "stdout",
     "output_type": "stream",
     "text": [
      "['[#8]~*~[CH2]~*', '*@*!@[#7]', '[#7]!:*:*']\n"
     ]
    },
    {
     "data": {
      "image/png": "[encoded data removed]",
      "text/plain": [
       "<PIL.PngImagePlugin.PngImageFile image mode=RGB size=600x200 at 0x12625B9D0>"
      ]
     },
     "execution_count": 40,
     "metadata": {},
     "output_type": "execute_result"
    }
   ],
   "source": [
    "# Example MACCS keys\n",
    "from rdkit.Chem import MACCSkeys\n",
    "\n",
    "smarts = [MACCSkeys.smartsPatts[x][0] for x in (132, 133, 135)]\n",
    "print(smarts)\n",
    "\n",
    "mols = [Chem.MolFromSmarts(x) for x in smarts]\n",
    "\n",
    "# A detail: get the molecules ready to be drawn:\n",
    "for m in mols: \n",
    "    m.UpdatePropertyCache()\n",
    "    \n",
    "Draw.MolsToGridImage(mols)"
   ]
  },
  {
   "cell_type": "code",
   "execution_count": 41,
   "metadata": {},
   "outputs": [],
   "source": [
    "# Calculation of MACCS fingerprint\n",
    "\n",
    "fp1 = MACCSkeys.GenMACCSKeys(mol1)\n",
    "fp2 = MACCSkeys.GenMACCSKeys(mol2)"
   ]
  },
  {
   "cell_type": "code",
   "execution_count": 42,
   "metadata": {},
   "outputs": [
    {
     "data": {
      "text/plain": [
       "'00000000000000000000000000000000000000100010000000000000010000000100000010010100100001110000010101101101010101010100001011100111110011110110001111111011110111111111110'"
      ]
     },
     "execution_count": 42,
     "metadata": {},
     "output_type": "execute_result"
    }
   ],
   "source": [
    "fp1.ToBitString()"
   ]
  },
  {
   "cell_type": "code",
   "execution_count": 43,
   "metadata": {},
   "outputs": [
    {
     "data": {
      "text/plain": [
       "'00000000000000000100000000000000000000100000000000000000000000000100000010000100100000100000010001100100010001000101101011000111000011010110101111110111110111111111110'"
      ]
     },
     "execution_count": 43,
     "metadata": {},
     "output_type": "execute_result"
    }
   ],
   "source": [
    "fp2.ToBitString()"
   ]
  },
  {
   "cell_type": "markdown",
   "metadata": {},
   "source": [
    "### Molecular similarity"
   ]
  },
  {
   "cell_type": "code",
   "execution_count": 44,
   "metadata": {},
   "outputs": [],
   "source": [
    "from rdkit import DataStructs"
   ]
  },
  {
   "cell_type": "code",
   "execution_count": 45,
   "metadata": {},
   "outputs": [
    {
     "name": "stdout",
     "output_type": "stream",
     "text": [
      "fp1: 60 fp2: 50 num in common: 45\n",
      "0.6923076923076923\n",
      "Tanimoto: 0.6923076923076923\n"
     ]
    }
   ],
   "source": [
    "# Tanimoto\n",
    "commonBits = fp1&fp2\n",
    "print('fp1:',fp1.GetNumOnBits(),'fp2:',fp2.GetNumOnBits(),'num in common:',commonBits.GetNumOnBits())\n",
    "print(commonBits.GetNumOnBits()/(fp1.GetNumOnBits()+fp2.GetNumOnBits()-commonBits.GetNumOnBits()))\n",
    "print('Tanimoto:', DataStructs.TanimotoSimilarity(fp1,fp2))"
   ]
  },
  {
   "cell_type": "code",
   "execution_count": null,
   "metadata": {},
   "outputs": [],
   "source": []
  },
  {
   "cell_type": "code",
   "execution_count": null,
   "metadata": {},
   "outputs": [],
   "source": []
  }
 ],
 "metadata": {
  "anaconda-cloud": {},
  "kernelspec": {
   "display_name": "Python 3",
   "language": "python",
   "name": "python3"
  },
  "language_info": {
   "codemirror_mode": {
    "name": "ipython",
    "version": 3
   },
   "file_extension": ".py",
   "mimetype": "text/x-python",
   "name": "python",
   "nbconvert_exporter": "python",
   "pygments_lexer": "ipython3",
   "version": "3.7.6"
  }
 },
 "nbformat": 4,
 "nbformat_minor": 4
}
